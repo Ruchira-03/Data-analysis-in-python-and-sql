{
  "nbformat": 4,
  "nbformat_minor": 0,
  "metadata": {
    "colab": {
      "private_outputs": true,
      "provenance": []
    },
    "kernelspec": {
      "name": "python3",
      "display_name": "Python 3"
    },
    "language_info": {
      "name": "python"
    }
  },
  "cells": [
    {
      "cell_type": "markdown",
      "source": [
        "## Library imports"
      ],
      "metadata": {
        "id": "XEPpUA17RTrD"
      }
    },
    {
      "cell_type": "code",
      "execution_count": null,
      "metadata": {
        "id": "43kJF5AdfB_V"
      },
      "outputs": [],
      "source": [
        "import pandas as pd\n",
        "import seaborn as sns\n",
        "import matplotlib.pyplot as plt"
      ]
    },
    {
      "cell_type": "markdown",
      "source": [
        "## Read Data\n"
      ],
      "metadata": {
        "id": "VVEjJvgPgsmo"
      }
    },
    {
      "cell_type": "code",
      "source": [
        "data = pd.read_csv(\"/content/india-state-wise-data-analysis.csv\")\n",
        "data.head(40)"
      ],
      "metadata": {
        "id": "J-4bPFBIfimr"
      },
      "execution_count": null,
      "outputs": []
    },
    {
      "cell_type": "markdown",
      "source": [
        "## Vis Data"
      ],
      "metadata": {
        "id": "RTU3HZPCgxyD"
      }
    },
    {
      "cell_type": "code",
      "source": [
        "\n",
        "# Data preprocessing to extract state and district names\n",
        "data['State'] = data['State & District'].apply(lambda x: x.split(\",\")[1].split(\":\")[1])\n",
        "data['District'] = data['State & District'].apply(lambda x: x.split(\",\")[2].split(\":\")[1])\n",
        "\n",
        "# Top 10 districts by population\n",
        "top_10_districts = data.nlargest(10, 'Population')\n",
        "\n",
        "# Setting up the plotting area\n",
        "fig, axes = plt.subplots(nrows=2, ncols=1, figsize=(10, 15))\n",
        "\n",
        "# Plot 1: Total Population\n",
        "sns.barplot(x='Population', y='District', data=top_10_districts, ax=axes[0], palette=\"Blues_d\")\n",
        "axes[0].set_title('Top 10 Districts by Population')\n",
        "axes[0].set_xlabel('Population')\n",
        "axes[0].set_ylabel('District')\n",
        "\n",
        "# Plot 2: Literacy Rate\n",
        "top_10_districts['Literacy Rate'] = (top_10_districts['Literate'] / top_10_districts['Population']) * 100\n",
        "sns.barplot(x='Literacy Rate', y='District', data=top_10_districts, ax=axes[1], palette=\"Greens_d\")\n",
        "axes[1].set_title('Literacy Rate in Top 10 Districts')\n",
        "axes[1].set_xlabel('Literacy Rate (%)')\n",
        "axes[1].set_ylabel('')\n",
        "\n",
        "# # Plot 3: Gender Distribution\n",
        "# top_10_districts_melted = top_10_districts.melt(value_vars=['Male', 'Female'], id_vars=['District'], var_name='Gender', value_name='Population')\n",
        "# sns.barplot(x='Population', y='District', hue='Gender', data=top_10_districts_melted, ax=axes[2], palette=\"coolwarm\")\n",
        "# axes[2].set_title('Gender Distribution in Top 10 Districts')\n",
        "# axes[2].set_xlabel('Population')\n",
        "# axes[2].set_ylabel('')\n",
        "\n",
        "plt.tight_layout()\n",
        "plt.show()\n"
      ],
      "metadata": {
        "id": "kAI031iggrhb"
      },
      "execution_count": null,
      "outputs": []
    },
    {
      "cell_type": "code",
      "source": [
        "# Aggregate the population by state\n",
        "state_population = data.groupby(['State'])['Population'].sum().reset_index()\n",
        "\n",
        "# Sort states by population for better visualization\n",
        "state_population_sorted = state_population.sort_values(by='Population', ascending=False)\n",
        "\n",
        "# Create a bar graph\n",
        "plt.figure(figsize=(10, 10))\n",
        "sns.barplot(x='Population', y='State', data=state_population_sorted, palette='viridis')\n",
        "plt.title('Population Distribution by State')\n",
        "plt.xlabel('Population')\n",
        "plt.ylabel('State')\n",
        "plt.xticks(rotation=45)\n",
        "plt.show()\n"
      ],
      "metadata": {
        "id": "UPxR2BNDiAjh"
      },
      "execution_count": null,
      "outputs": []
    },
    {
      "cell_type": "code",
      "source": [
        "# Question 1: Literacy rate across different states\n",
        "state_literacy = data.groupby(\"State\")[['Literate', 'Population']].sum()\n",
        "state_literacy['Literacy Rate'] = (state_literacy['Literate'] / state_literacy['Population']) * 100\n",
        "state_literacy = state_literacy.sort_values('Literacy Rate', ascending=False).reset_index()\n",
        "\n",
        "# Question 2: Gender ratio (number of males per 100 females) vary across states\n",
        "state_gender_ratio = data.groupby('State')[['Male', 'Female']].sum()\n",
        "state_gender_ratio['Gender Ratio'] = (state_gender_ratio['Male'] / state_gender_ratio['Female']) * 100\n",
        "state_gender_ratio = state_gender_ratio.sort_values('Gender Ratio', ascending=False).reset_index()\n",
        "\n",
        "# Setting up the plotting area\n",
        "fig, axes = plt.subplots(nrows=2, ncols=1, figsize=(10, 15))\n",
        "\n",
        "# Plot for Literacy Rate\n",
        "sns.barplot(x='Literacy Rate', y='State', data=state_literacy, ax=axes[0], palette=\"coolwarm\")\n",
        "axes[0].set_title('Literacy Rate Across Different States')\n",
        "axes[0].set_xlabel('Literacy Rate (%)')\n",
        "axes[0].set_ylabel('State')\n",
        "\n",
        "# Plot for Gender Ratio\n",
        "sns.barplot(x='Gender Ratio', y='State', data=state_gender_ratio, ax=axes[1], palette=\"viridis\")\n",
        "axes[1].set_title('Gender Ratio (Number of Males per 100 Females) Across States')\n",
        "axes[1].set_xlabel('Gender Ratio')\n",
        "axes[1].set_ylabel('State')\n",
        "\n",
        "plt.tight_layout()\n",
        "plt.show()\n"
      ],
      "metadata": {
        "id": "gIThd1TDg0TZ"
      },
      "execution_count": null,
      "outputs": []
    },
    {
      "cell_type": "code",
      "source": [
        "# What is the distribution of the Scheduled Caste (SC) population across states?\n",
        "# Aggregating SC population by state\n",
        "state_sc_population = data.groupby('State')['SC'].sum().sort_values(ascending=False).reset_index()\n",
        "\n",
        "# Since there are many states, for visualization clarity, we might consider top states by SC population\n",
        "top_states_by_sc_population = state_sc_population.head(10)\n",
        "\n",
        "# Plotting\n",
        "plt.figure(figsize=(8, 7))\n",
        "sns.barplot(x='SC', y='State', data=top_states_by_sc_population, palette='magma')\n",
        "plt.title('Top 10 States by SC Population Distribution in India')\n",
        "plt.xlabel('SC Population')\n",
        "plt.ylabel('State')\n",
        "plt.show()"
      ],
      "metadata": {
        "id": "FLn5UIkri0up"
      },
      "execution_count": null,
      "outputs": []
    },
    {
      "cell_type": "code",
      "source": [
        "# What is the relationship between literacy rates and the proportion of graduate or higher education in states?\n",
        "# Calculating the Graduate or Higher Education Rate for each state\n",
        "state_education = data.groupby('State')[['Graduate_Education', 'Population']].sum()\n",
        "state_education['Graduate Education Rate'] = (state_education['Graduate_Education'] / state_education['Population']) * 100\n",
        "\n",
        "# Merging the literacy rate and graduate education rate dataframes\n",
        "state_comparison = pd.merge(state_literacy[['State', 'Literacy Rate']], state_education[['Graduate Education Rate']], on='State')\n",
        "\n",
        "# Plotting the scatter plot\n",
        "plt.figure(figsize=(6, 4))\n",
        "sns.scatterplot(x='Literacy Rate', y='Graduate Education Rate', data=state_comparison, s=100, color=\"blue\", alpha=0.6)\n",
        "plt.title('Comparison of Literacy Rates and Graduate Education Rates Across States')\n",
        "plt.xlabel('Literacy Rate (%)')\n",
        "plt.ylabel('Graduate Education Rate (%)')\n",
        "plt.grid(True)\n",
        "plt.show()"
      ],
      "metadata": {
        "id": "7r7ZSig0j18B"
      },
      "execution_count": null,
      "outputs": []
    },
    {
      "cell_type": "code",
      "source": [],
      "metadata": {
        "id": "xlm9PQOvkUHN"
      },
      "execution_count": null,
      "outputs": []
    }
  ]
}